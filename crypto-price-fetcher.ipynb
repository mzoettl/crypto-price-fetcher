{
 "cells": [
  {
   "cell_type": "code",
   "execution_count": 9,
   "metadata": {},
   "outputs": [],
   "source": [
    "import datetime\n",
    "import pandas as pd\n",
    "import requests\n",
    "import time"
   ]
  },
  {
   "cell_type": "code",
   "execution_count": 34,
   "metadata": {},
   "outputs": [],
   "source": [
    "#input required ERC-20 tokens\n",
    "token_addresses = [\"0x9f8F72aA9304c8B593d555F12eF6589cC3A579A2\",\"0x2260FAC5E5542a773Aa44fBCfeDf7C193bc2C599\"]"
   ]
  },
  {
   "cell_type": "code",
   "execution_count": 35,
   "metadata": {},
   "outputs": [],
   "source": [
    "\n",
    "vs_currencies = ['usd'] # Replace with the currencies you want\n",
    "days_per_request = 90 # Maximum number of days per API request\n",
    "start_date = datetime.datetime.strptime('2020-01-01', '%Y-%m-%d')\n",
    "end_date = datetime.datetime.strptime('2020-04-30', '%Y-%m-%d')\n",
    "\n",
    "# Format the start and end dates for the API request\n",
    "start_date_str = start_date.strftime(\"%d-%m-%Y\")\n",
    "end_date_str = end_date.strftime(\"%d-%m-%Y\")\n",
    "\n",
    "# Make the API requests\n",
    "price_data = {}\n",
    "api_calls = 0\n",
    "for token_address in token_addresses:\n",
    "    try:\n",
    "        price_data[token_address] = {}\n",
    "        current_date = start_date\n",
    "        while current_date < end_date:\n",
    "            days = min((end_date - current_date).days, days_per_request)\n",
    "            url = f\"https://api.coingecko.com/api/v3/coins/ethereum/contract/{token_address}/market_chart/range?vs_currency={','.join(vs_currencies)}&from={current_date.strftime('%s')}&to={(current_date + datetime.timedelta(days=days)).strftime('%s')}\"\n",
    "            response = requests.get(url)\n",
    "            response_json = response.json()\n",
    "            api_calls += 1\n",
    "            #print(f\"API call {api_calls} made\")\n",
    "            for price in response_json['prices']:\n",
    "                timestamp = price[0]\n",
    "                price_value = price[1]\n",
    "                date_str = datetime.datetime.fromtimestamp(timestamp/1000).strftime(\"%Y-%m-%d\")\n",
    "                price_data[token_address][date_str] = price_value\n",
    "            current_date += datetime.timedelta(days=days)\n",
    "            time.sleep(4) #set a delay betweeen API calls to not exceed free request limits.\n",
    "    except KeyError:\n",
    "        print(f\"No price data found for token address {token_address}. Skipping...\")\n",
    "        continue\n"
   ]
  },
  {
   "cell_type": "code",
   "execution_count": 38,
   "metadata": {},
   "outputs": [],
   "source": [
    "#now store the result in a csv\n",
    "data_rows = []\n",
    "for token_address in price_data:\n",
    "    for date, price in price_data[token_address].items():\n",
    "        data_rows.append([token_address, date, price])\n",
    "\n",
    "df = pd.DataFrame(data_rows, columns=['token-address', 'date', 'price_usd'])\n",
    "\n",
    "# Write DataFrame to a CSV file\n",
    "df.to_csv('crypto-price-data.csv', index=False)"
   ]
  },
  {
   "cell_type": "code",
   "execution_count": 12,
   "metadata": {},
   "outputs": [],
   "source": []
  },
  {
   "cell_type": "code",
   "execution_count": null,
   "metadata": {},
   "outputs": [],
   "source": []
  },
  {
   "cell_type": "code",
   "execution_count": null,
   "metadata": {},
   "outputs": [],
   "source": []
  }
 ],
 "metadata": {
  "kernelspec": {
   "display_name": "Python 3",
   "language": "python",
   "name": "python3"
  },
  "language_info": {
   "codemirror_mode": {
    "name": "ipython",
    "version": 3
   },
   "file_extension": ".py",
   "mimetype": "text/x-python",
   "name": "python",
   "nbconvert_exporter": "python",
   "pygments_lexer": "ipython3",
   "version": "3.8.5"
  }
 },
 "nbformat": 4,
 "nbformat_minor": 4
}
